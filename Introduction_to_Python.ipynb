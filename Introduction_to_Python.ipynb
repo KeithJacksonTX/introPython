{
  "nbformat": 4,
  "nbformat_minor": 0,
  "metadata": {
    "kernelspec": {
      "display_name": "Python 3",
      "language": "python",
      "name": "python3"
    },
    "language_info": {
      "codemirror_mode": {
        "name": "ipython",
        "version": 3
      },
      "file_extension": ".py",
      "mimetype": "text/x-python",
      "name": "python",
      "nbconvert_exporter": "python",
      "pygments_lexer": "ipython3",
      "version": "3.6.8"
    },
    "colab": {
      "name": "Introduction_to_Python.ipynb",
      "provenance": [],
      "collapsed_sections": [
        "JB0WYA1Wme8y",
        "s7H8ySWhme_s",
        "b2xaOOywmfAx",
        "dqQ3La9jmfA1",
        "5gCbeAe5mfA_",
        "b7s7WcLQmfBB",
        "0_zY409ZmfBG",
        "3hNJ9MwHmfBL",
        "stJJgAJImfBT",
        "pHkYJWtjmfBY",
        "5Tv1a0IxmfBh",
        "xnnhv2pWmfBm",
        "Cszgi_CbmfBo"
      ],
      "include_colab_link": true
    }
  },
  "cells": [
    {
      "cell_type": "markdown",
      "metadata": {
        "id": "view-in-github",
        "colab_type": "text"
      },
      "source": [
        "<a href=\"https://colab.research.google.com/github/kjtamu/introPython/blob/main/Introduction_to_Python.ipynb\" target=\"_parent\"><img src=\"https://colab.research.google.com/assets/colab-badge.svg\" alt=\"Open In Colab\"/></a>"
      ]
    },
    {
      "cell_type": "markdown",
      "metadata": {
        "id": "RJE4U3q-me8H"
      },
      "source": [
        "<center><h1>Introduction to Python</h1><center>\n",
        "\n",
        "<center>\n",
        "<h3>Author: Yang Liu</h3>\n",
        "<h3>Presenter: Keith Jackson</h3>\n",
        "<h3>High Performance Research Computing<br>Texas A&amp;M University</h3>\n",
        "<h3><a href=\"https://hprc.tamu.edu/training/intro_python.html\">course web page</a></h3>\n",
        "</center>"
      ]
    },
    {
      "cell_type": "markdown",
      "metadata": {
        "id": "VuzZ5iD0me8I"
      },
      "source": [
        "# Agenda\n",
        "\n",
        "- Constants and Variables\n",
        "- Data Types: Numbers, Strings, and Lists\n",
        "- Control Statement: If/Else, For, While\n",
        "- Functions\n",
        "- Scripts and Modules\n",
        "- File Input and Output\n",
        "- Errors and Exceptions\n",
        "- Dictionaries\n",
        "- Sorting\n",
        "- Regular Expression\n",
        "- Slicing, List Comprehension, List Assignment and Copy\n"
      ]
    },
    {
      "cell_type": "markdown",
      "metadata": {
        "id": "3ok0P4EAme8J"
      },
      "source": [
        "This class will cover the basics of Python 3.\n",
        "\n",
        "# 1. Constants and Variables\n",
        "\n",
        "Constants and variables are data for program to process and store information.\n",
        "\n",
        "# 1.1 Constants\n",
        "A constant is a value stored in computer memory. For example, constant 5 means the number 5 stored in computer memory. The number of bytes used to store a constant varies. \n",
        "- The 'getsizeof()' function in the 'sys' module returns the number of bytes of a constant (or a variable).\n",
        "- The 'id()' function returns the identify (memory address in cython) of a constant (or a variable)"
      ]
    },
    {
      "cell_type": "code",
      "metadata": {
        "id": "HhubmwUtme8K"
      },
      "source": [
        "import sys     # import the 'sys' module\n",
        "print('the number of bytes used to store constant 5 in memory is {:d} '.format(sys.getsizeof(5))) #print function for output\n",
        "print('the identity (memory address) of constant 5 is {:s}'.format(hex(id(5))))\n",
        "print('the number of bytes used to store constant 1234567890 in memory is {:d}'.format(sys.getsizeof(1234567890)))\n",
        "print('the identity (memory address) of constant 1234567890 is {:018x}'.format(id(1234567890)))\n",
        "\n",
        "# Task to do:\n",
        "# Execute the python statements in this cell\n",
        "# by 'Click this cell, and then press 'Ctrl + Enter' keys (or click the 'run cell, select below' icon. "
      ],
      "execution_count": null,
      "outputs": []
    },
    {
      "cell_type": "markdown",
      "metadata": {
        "id": "jNgNtecame8P"
      },
      "source": [
        "The example above shows that the number of bytes used to store a constant (numbers in the example) depends the constant value. Actually, a constant is an object which uses some bits to store extra information other than the constant value.\n",
        "\n",
        "Function print('{}'.format()) displays the message in quote on output device (screen). For example:\n",
        "- print('a = {:d}'.format(a)) displays 'a = 5' if a is an integer of value 5.\n",
        "- print('a = {:s}'.format(a)) displays 'a = hello world' if a is a string of value 'hello world'.\n",
        "\n",
        "The {} in the (single or double) quote means it should be replaced by its corresponding varible from the arguments of the format() function.\n",
        "The ':d' inside a {} tells to format the variable to display as a signed integer, while the \n",
        "':s' tells to format the variable to display as a string.\n",
        "\n",
        "Run the following program to see the actual output."
      ]
    },
    {
      "cell_type": "code",
      "metadata": {
        "scrolled": true,
        "id": "NqgPWCAfme8Q"
      },
      "source": [
        "a = 5\n",
        "print('a = {:d}'.format(a))\n",
        "a = 'hello world'\n",
        "print('a = {:s}'.format(a))\n",
        "print('a = {:d}'.format(a))"
      ],
      "execution_count": null,
      "outputs": []
    },
    {
      "cell_type": "markdown",
      "metadata": {
        "id": "ptonBPpJme8U"
      },
      "source": [
        "#                                         1.2 Variables\n",
        "Variables in a program are data for the program to work on. A variable x is an object in memory: integer, string, etc. A variable can refer to different objects at different time.<br>\n",
        "There are four important properites for each variable:\n",
        "<ul>\n",
        "<li>A variable x has a name, e.g., x.<br>\n",
        "<li>A variable x is a reference to a memory location where an object is stored.<br>\n",
        "<li>A variable x has a value, i.e., the object stored in the memory location referred by x.\n",
        "<li>A variable x has a type: integer, string (object type)\n",
        "</ul>\n",
        "\n",
        "\n",
        "\n",
        "Example: variable balance\n",
        "<ul>\n",
        "<li>Variable Name: balance\n",
        "<li>Memory/Location Reference: the box (memory) where the money (object) is stored\n",
        "<li>Variable Type: money (floating point number).\n",
        "<li>Variable Value: the amount of money stored in the box/memory\n",
        "</ul>"
      ]
    },
    {
      "cell_type": "markdown",
      "metadata": {
        "id": "AOSoOGX_me8V"
      },
      "source": [
        "# 1.2.1 Variable Names\n",
        "Rules for variable names:\n",
        "<ul>\n",
        "<li> A variable name must begin with a letter (a-z, A-Z) or underscore (_).\n",
        "     <ul>\n",
        "         <li>valid variable names: A, a, boy, account_balance, _system.\n",
        "         <li>invalid variable names: 9year_average, $balance.\n",
        "     </ul>\n",
        "<li> The other characters in a variable name can be a letter, number(0-9), or underscore.\n",
        "     <ul>\n",
        "          <li>valid variable name: student_2.\n",
        "          <li>invalid variable name: average-GPA.\n",
        "     </ul>\n",
        "<li> A variable name is case sensitive.\n",
        "     <ul>\n",
        "          <li> Boy and boy are two different variables.\n",
        "     </ul>\n",
        "<li> A variable name cannot be a keyword.\n",
        "     <ul>\n",
        "           <li>a variable name cannot be and (and is a key word).\n",
        "     </ul>\n",
        "</ul>\n",
        "# 1.2.2 Variable Assignment Operator =\n",
        "Assignment statement 'x = y' assign the reference of y to x. Therefore, both x and y refer/point to the same object. "
      ]
    },
    {
      "cell_type": "code",
      "metadata": {
        "id": "TPrwGPCgme8V"
      },
      "source": [
        "age = 20   # assign variable age with reference to the constant 20 (object)\n",
        "Age = 30   # assign variable Age with reference to the constant 30 (object)\n",
        "print('age = {:d}, Age = {:d}'.format(age, Age))     # display the value of variable age and Age\n",
        "\n",
        "# Tasks to do\n",
        "# Execute the python statements above by 'Click this cell, and then press 'Ctrl + Enter' keys. \n",
        "# Does this convince you that variables are case sensitive?"
      ],
      "execution_count": null,
      "outputs": []
    },
    {
      "cell_type": "code",
      "metadata": {
        "id": "zDSpi8kjme8Y"
      },
      "source": [
        "age = 20\n",
        "Age = 20\n",
        "print('Before changing age to 40, age = {:d}, Age = {:d}'.format(age, Age)) \n",
        "print('Before changing age to 40, id(age) = {:d}, id(Age) = {:d}'.format(id(age), id(Age))) \n",
        "age = 40\n",
        "print('After changing age to 40, age = {:d}, Age = {:d}'.format(age, Age)) \n",
        "print('After changing age to 40, id(age) = {:d}, id(Age) = {:d}'.format(id(age), id(Age)))\n",
        "\n",
        "# Tasks to do\n",
        "# Execute the program in this cell\n",
        "# What does the program output tell you"
      ],
      "execution_count": null,
      "outputs": []
    },
    {
      "cell_type": "markdown",
      "metadata": {
        "id": "C6g3yjO3me8h"
      },
      "source": [
        "The program above should convince you that a variable may refer to different objects at different time. Moreover, the id of the variable changes when it is assigned with different object.\n",
        "\n",
        "# 1.2.3 Errors from Incorrect Variable Names\n",
        "\n",
        "Now we will look at the errors related to incorrect variable names."
      ]
    },
    {
      "cell_type": "code",
      "metadata": {
        "id": "zbgaikgxme8i"
      },
      "source": [
        "and=5\n",
        "print('{:d}'.format(and))\n",
        "# Tasks to do\n",
        "# (1) Execute the python statement above\n",
        "#     What does the error tells you? What causes this error?"
      ],
      "execution_count": null,
      "outputs": []
    },
    {
      "cell_type": "markdown",
      "metadata": {
        "id": "1VAptOrhme8l"
      },
      "source": [
        "The error message 'invalid syntax' is not self-evident. The error was caused by the variable and which is a keyword. The following program shows the keywords used by Python."
      ]
    },
    {
      "cell_type": "code",
      "metadata": {
        "id": "CtyhYgH2me8m"
      },
      "source": [
        "import keyword\n",
        "print(keyword.kwlist)  # print the keywords used in Python\n",
        "\n",
        "# Tasks to do\n",
        "# (1) Execute the python statement in this cell"
      ],
      "execution_count": null,
      "outputs": []
    },
    {
      "cell_type": "code",
      "metadata": {
        "id": "Fla6kgxeme8s"
      },
      "source": [
        "average-GPA = 90\n",
        "print(average-GPA)\n",
        "# Tasks to do\n",
        "# Execute the python statement above\n",
        "# What does the error tells you? Why is there such an error?"
      ],
      "execution_count": null,
      "outputs": []
    },
    {
      "cell_type": "markdown",
      "metadata": {
        "id": "TG1S1vI9me8v"
      },
      "source": [
        "The error message \"can't assign to operator\" is not self-evident too. The error was caused by the variable 'average-GPA' which is not a valid variable because it contains an invalid symbol '-'."
      ]
    },
    {
      "cell_type": "code",
      "metadata": {
        "id": "WQBs-s2Rme8v"
      },
      "source": [
        "$balance = 2000\n",
        "print($balance)\n",
        "# Tasks to do\n",
        "# Execute the python statement above\n",
        "# What does the error tells you? Why is there such an error?"
      ],
      "execution_count": null,
      "outputs": []
    },
    {
      "cell_type": "markdown",
      "metadata": {
        "id": "JB0WYA1Wme8y"
      },
      "source": [
        "Again the error message \"invalid syntax\" is not self-evident. The error was caused by the variable '$balance' which is not a valid variable because it does not start with a letter ('a'-'z', 'A'-'Z') nor the underscore symbol ('_').\n",
        "\n",
        "# 1.2.4 Variables Must be Defined First\n",
        "\n",
        "A variable must be defined before it is used."
      ]
    },
    {
      "cell_type": "code",
      "metadata": {
        "id": "zM47eXCNme8z"
      },
      "source": [
        "print(undefined_variable)\n",
        "\n",
        "# Tasks to do\n",
        "# Execute the python statement above\n",
        "# What does the error tells you? Why is there such an error? How to fix the error?"
      ],
      "execution_count": null,
      "outputs": []
    },
    {
      "cell_type": "markdown",
      "metadata": {
        "id": "-eIRqIcPme81"
      },
      "source": [
        "# 2. Data Types\n",
        "\n",
        "Every variable must have a type. This is important. It is a common error that an operator is applied to a variable of wrong data type. When that happens, the result or program execution normally is not correct as expected.\n",
        "\n",
        "# 2.1 Number\n",
        "\n",
        "A number can be an integer, a floating point number, or a boolean.\n",
        "# 2.1.1 Automatical Conversion between Subtypes of Numbers"
      ]
    },
    {
      "cell_type": "code",
      "metadata": {
        "id": "_CIzllkXme82"
      },
      "source": [
        "a = 3      # assign integer 3 to variable a\n",
        "b = 5.5    # assign floating point number 5.5 to variable b\n",
        "c = True   # assign boolean value True to variable c\n",
        "print('a + b + c = {:f}, c = {:d}, -c = {:d}, type(c) is {:s}'.format(a + b + c, c, -c, str(type(c)))) \n",
        "# Tasks to do\n",
        "# (1) Execute the statements in this cell\n",
        "# (2) What do you learn from this example?"
      ],
      "execution_count": null,
      "outputs": []
    },
    {
      "cell_type": "markdown",
      "metadata": {
        "id": "6OgIgvBzme85"
      },
      "source": [
        "The example above shows that \n",
        "3. an integer and boolean variable are automatically converted to a floating point number when they are added to a variable of floating point number, and\n",
        "3. a boolean variable is automatically converted to an integer when a negation operator '-' (or '+' etc.) is applied to the variable.\n",
        "\n",
        "# 2.1.2 Operators on Numbers\n",
        "Below we demonstrate the addtion (+), substraction (-), multiplication (*) and division (/) operators for numbers."
      ]
    },
    {
      "cell_type": "code",
      "metadata": {
        "id": "TviScPmUme85"
      },
      "source": [
        "a = 10\n",
        "b = 4\n",
        "print('a + b = {:d}, a - b = {:d}, a * b = {:d}, a / b = {:f}'.format(a + b, a - b, a * b, a / b))"
      ],
      "execution_count": null,
      "outputs": []
    },
    {
      "cell_type": "markdown",
      "metadata": {
        "id": "TkmT9odtme89"
      },
      "source": [
        "# 2.1.3 Operator Precedence\n",
        "Operators have different precedences, similary to operator precedence in math. For example, 3 + 2 * 3 is 3 + 6 = 9. "
      ]
    },
    {
      "cell_type": "code",
      "metadata": {
        "id": "72bhSZvCme8-"
      },
      "source": [
        "a = 1\n",
        "b = 2\n",
        "c = 3\n",
        "print('{:d} + {:d} / {:d}  = {:f}'.format(a, b, c, a + b / c))\n",
        "print('({:d} + {:d}) / {:d}  = {:f}'.format(a, b, c, (a + b) / c))"
      ],
      "execution_count": null,
      "outputs": []
    },
    {
      "cell_type": "markdown",
      "metadata": {
        "id": "PsIeMhSZme9C"
      },
      "source": [
        "# 2.2 String\n",
        "A string is a sequence of characters (not just letters 'a-z' and 'A-Z') which is quoted by double/single/triple quotes"
      ]
    },
    {
      "cell_type": "code",
      "metadata": {
        "id": "Im5gquM-me9D"
      },
      "source": [
        "name = \"Ada Cluster\"\n",
        "print(name)\n",
        "string_in_two_lines = 'Ada Cluster \\nTexas A&M University'\n",
        "print(\"string in two lines:\")\n",
        "print(string_in_two_lines)\n",
        "string_in_tripple_quote = \"\"\"\n",
        "Ada Cluster\n",
        "Texas A&M University\n",
        "\"\"\"\n",
        "print(\"string in tripple quote:\")\n",
        "print(string_in_tripple_quote)\n",
        "test_string = 'Ada Cluster Texas A&M University'\n",
        "print('test_string = {:s}'.format(test_string))\n",
        "# Tasks to do\n",
        "# Execute the statements above\n",
        "# Why is there a space before the 'Texas A&M University' for print(string_in_two_lines)?\n",
        "# What is the character '\\n' in string_in_two_lines?\n",
        "# Why there is a blank line before 'Ada Cluster' for print(string_in_tripple_quote)?"
      ],
      "execution_count": null,
      "outputs": []
    },
    {
      "cell_type": "code",
      "metadata": {
        "id": "3-B96zQkme9I"
      },
      "source": [
        "# exericse\n",
        "\n",
        "# define a variable company of value \"Tom said, \"it is Sam's club\"\" and print it\n",
        "\n"
      ],
      "execution_count": null,
      "outputs": []
    },
    {
      "cell_type": "code",
      "metadata": {
        "id": "QWvB4Av_me9L"
      },
      "source": [
        "# This is a solution to the exericse above\n",
        "\n",
        "# define a variable company of value \"Tom said, \"It is Sam's club\"\" and print it\n",
        "\n",
        "x = 'Tom said, \"It is Sam\\'s club\"'\n",
        "print(x)\n",
        "x = '''Tom said, \"It is Sam's club\"'''\n",
        "print('x in triple quote: ', x)\n",
        "\n",
        "\n",
        "\n",
        "\n",
        "\n",
        "sentence = \"Tom said, \\\"It is Sam's Club\\\"\"\n",
        "print('sentence is {:s}'.format(sentence))\n",
        "sentence = '''Tom said, \"It is Sam's Club\"'''\n",
        "print('sentence is {:s}'.format(sentence))"
      ],
      "execution_count": null,
      "outputs": []
    },
    {
      "cell_type": "markdown",
      "metadata": {
        "id": "r5m-HcOTme9O"
      },
      "source": [
        "# 2.3 Type Conversion for Integers and Strings\n",
        "Operations cannot be applied to variables of different types. A variable should be converted into the same type as the other variable before an operation can be applied to the two variables.\n",
        "<ul>\n",
        "   <li> Function int() converts a string to an integer\n",
        "   <li> Function str() converts an integer to a string\n",
        "</ul>"
      ]
    },
    {
      "cell_type": "code",
      "metadata": {
        "id": "layVj2Kpme9O"
      },
      "source": [
        "score = 82\n",
        "grade = '95'\n",
        "print('{:d} + {:d} = {:d}'.format(score, int(grade), score + int(grade)))\n",
        "print('{:s} + {:s} = {:s}'.format(str(score), grade, str(score) + grade))\n",
        "print(score + grade)\n",
        "# Tasks to do\n",
        "# (1) Execute the statements above. What error do you receive? Why\n",
        "# (2) Why do print(score + int(grade)) and print(str(score) + grade) have different outputs"
      ],
      "execution_count": null,
      "outputs": []
    },
    {
      "cell_type": "markdown",
      "metadata": {
        "id": "ar2R0_0Jme9V"
      },
      "source": [
        "# 2.4 List\n",
        "A list contains zero or more elements between square brackets '[' and ']'\n",
        "<ul>\n",
        "    <li> Two adjacent elements are separated by a comma ',' in a list\n",
        "    <li> Elements can be of mixed types\n",
        "</ul>"
      ]
    },
    {
      "cell_type": "code",
      "metadata": {
        "id": "NpMHtbBTme9V"
      },
      "source": [
        "department = ['Biology', 'Civil Engineering', 'Math']    # define a list of three elements\n",
        "print('department = ', department)\n",
        "print('After changing the first element of department')\n",
        "department[0] = 'English'                                # modify the first element (with index 0)\n",
        "print('department = {:s}'.format(str(department)))\n",
        "print('Biology in department:', 'Biology' in department) # operator 'in' checks an element is in the list or not\n",
        "print(\"Now concatenate department with another list\")\n",
        "department = department + ['Geoscience', 'Finance']      # operator '+' concatenate two lists\n",
        "print('department =', department)\n",
        "# Tasks to do\n",
        "# Execute the statements above\n",
        "# Note the operator '+' is no longer addtion when it is applied to lists"
      ],
      "execution_count": null,
      "outputs": []
    },
    {
      "cell_type": "markdown",
      "metadata": {
        "id": "YM1V3vjume9X"
      },
      "source": [
        "# 2.5 Comparison Operator ==\n",
        "The comparison operator '==' compares whether two variables have the same value (not reference) or not"
      ]
    },
    {
      "cell_type": "code",
      "metadata": {
        "id": "-sQAldWkme9Y"
      },
      "source": [
        "a = 257\n",
        "b = 257\n",
        "print('id(a) = {:d}, id(b) = {:d}'.format(id(a), id(b)))\n",
        "print('{:d} == {:d} is {:s}'.format(a, b, str(a == b)))     # display the value of 'a == b' which is a boolean value: True or False\n",
        "print('{:d} / 80 == {:d} is {:s}'.format(a, b, str(a/80 == b)))  # the division '/' operator has higher priority than the comparison '==' operator"
      ],
      "execution_count": null,
      "outputs": []
    },
    {
      "cell_type": "markdown",
      "metadata": {
        "id": "BPj01T0Rme9a"
      },
      "source": [
        "# 2.6 Exercise"
      ]
    },
    {
      "cell_type": "code",
      "metadata": {
        "id": "FP6bgoO6me9b"
      },
      "source": [
        "# exercise\n",
        "\n",
        "# task (1)\n",
        "# define a list with two elements: \n",
        "# the first one is an integer 257, \n",
        "# the second one is a string of value '257'\n",
        "\n",
        "\n",
        "# task (2)\n",
        "# print the result of comparing the two elements in the list defined in task (1)\n",
        "\n",
        "\n",
        "# task (3)\n",
        "# print the sum of the two elements in the list as integers\n",
        "\n",
        "\n",
        "# task (4)\n",
        "# append an integer 100 to the list\n"
      ],
      "execution_count": null,
      "outputs": []
    },
    {
      "cell_type": "code",
      "metadata": {
        "id": "b_qfND_gme9d"
      },
      "source": [
        "# This is a solution to the exercise above\n",
        "\n",
        "# task (1)\n",
        "# define a list with two elements: \n",
        "# the first one is an integer 257, \n",
        "# the second one is a string of value '257'\n",
        "mixed_list = [257, '257']\n",
        "# task (2)\n",
        "# print the result of comparing the two elements in the list defined in task (1)\n",
        "print('{:d} == {:s} is {:s}'.format(mixed_list[0], mixed_list[1], str(mixed_list[0] == mixed_list[1])))\n",
        "# task (3)\n",
        "# print the sum of the two elements in the list as integers\n",
        "print('{:d} + {:d} = {:d}'.format(mixed_list[0], int(mixed_list[1]), mixed_list[0] + int(mixed_list[1])))\n",
        "# task (4)\n",
        "# append an integer 100 to the list\n",
        "mixed_list = mixed_list + [100]\n",
        "print('new mixed_list is {:s}'.format(str(mixed_list)))"
      ],
      "execution_count": null,
      "outputs": []
    },
    {
      "cell_type": "markdown",
      "metadata": {
        "id": "nmfofopome9g"
      },
      "source": [
        "# 3 Flow Control: \n",
        "\n",
        "Flow control statments allow a program to work differently depending on data and repeat execution of statements. We will study if/else, while, and for statments for flow control.\n",
        "\n",
        "# 3.1 If Else\n",
        "Statements can be bounded to 'if' and 'else'. A condition statement is checked by 'if' to decide which statements to be exeucted.\n",
        "<ul>\n",
        "    <li> When the 'if' condition statement has a True value\n",
        "         <ul>\n",
        "              <li> the statements bounded to 'if' are executed.\n",
        "              <li> the statements bounded to 'else' are NOT executed.\n",
        "         </ul>\n",
        "    <li> When the 'if' condition statement has a False value\n",
        "         <ul>\n",
        "              <li> the statements bounded to 'if' are NOT executed.\n",
        "              <li> the statements bounded to 'else' are executed.\n",
        "         </ul>\n",
        "</ul>\n",
        "Indention is used in Python to bound statements to groups. All statements bounded to if/else should have the same indention."
      ]
    },
    {
      "cell_type": "code",
      "metadata": {
        "id": "11OcQfebme9g"
      },
      "source": [
        "print(\"------execution of if/else statements when the if condition is True-----\")\n",
        "x = 0\n",
        "print(x==0)\n",
        "if x == 0:                # do not forgot the colon ':'\n",
        "    print(\"x is zero\")\n",
        "else:                     # do not forgot the colon ':'\n",
        "    print(\"x is NOT zero\")\n",
        "print(\"------execution of if/else statements when the if condition is False-----\")\n",
        "x = 1\n",
        "print(x==0)\n",
        "if x == 0:\n",
        "    print(\"x is zero\")\n",
        "else:\n",
        "    print(\"x is NOT zero\")\n",
        "# Tasks to do\n",
        "# (1) Execute the statements here\n",
        "#     What is the if condition statement?\n",
        "#     What is the value of the if condition statement above during the execution (line 2 and 8)?\n",
        "#     Is the statement print(\"x is zero\") bounded to if or else?\n",
        "#     Is the statement print(\"-----compared....\") bounded to if or else?"
      ],
      "execution_count": null,
      "outputs": []
    },
    {
      "cell_type": "code",
      "metadata": {
        "id": "UQuJbGlDme9n"
      },
      "source": [
        "print(\"------execution of if/else statements when the if condition is True-----\")\n",
        "\n",
        "x = 2\n",
        "print(x==0)\n",
        "if x == 0:\n",
        "  print(\"x is zero\")\n",
        "  print(\"x cannot be a divisor\")\n",
        "else:\n",
        "    print(\"x is NOT zero\")\n",
        "    print(\"5 / {:d} = {:f}\".format(x, 5 /2))\n",
        "print(\"------execution of if/else statements when the if condition is False-----\")\n",
        "x = 0\n",
        "if x == 0:\n",
        "    print(\"x is zero\")\n",
        "    print(\"x cannot be a divisor\")\n",
        "else:\n",
        "    print(\"x is NOT zero\")\n",
        "    print(\"5 / {:d} = {:f}\".format(x, 5 /2))\n",
        "# Tasks to do\n",
        "# (1) Execute the staemetns above\n",
        "#     Which statements are bounded to the if in line 2?\n",
        "# (2) Delete one space in line 4 and then execute the statements again\n",
        "#     What error do you recieve? Why?\n"
      ],
      "execution_count": null,
      "outputs": []
    },
    {
      "cell_type": "markdown",
      "metadata": {
        "id": "uOtNKXiEme9q"
      },
      "source": [
        "# 3.2 User Input\n",
        "Function input(message) displays the message on screen, and then waits for user to enter an input. Once user enters an input, input(message) stores that input as a string. A user ends an input by pressing the 'Enter' key.\n"
      ]
    },
    {
      "cell_type": "code",
      "metadata": {
        "id": "MP-hYTFDme9s"
      },
      "source": [
        "x = input(\"Please enter one integer:\")\n",
        "print(type(x))\n",
        "print('The integer entered by user is {:s}'.format(x))\n",
        "print('2*x = ', 2*x)\n",
        "print('2*x = ', 2*int(x))\n",
        "# Tasks to do\n",
        "# (1) Execute the statements above."
      ],
      "execution_count": null,
      "outputs": []
    },
    {
      "cell_type": "markdown",
      "metadata": {
        "id": "W7trqkIGme9y"
      },
      "source": [
        "The output of the program above is not what we expect. Why? It was because the variable x is a string and then '2*x' concatenates the string x twice. Recall that data types of variables are important! How to get a value which is the double of the integer entered by the user?\n",
        "\n",
        "# 3.3 Exericse"
      ]
    },
    {
      "cell_type": "code",
      "metadata": {
        "id": "kfRqEwUwme9z"
      },
      "source": [
        "# exercise\n",
        "\n",
        "# Write a program to accept two integers from a user, \n",
        "# and then display 'Maximum = x' and 'Minimum = y'\n",
        "# where x is the maximum value of the two integers entered by the user\n",
        "# and y is the miminum value of the two integers entered by the user\n",
        "# For example, if a user enters 9  and 11\n",
        "# then your program should display \n",
        "#      Maximum = 11\n",
        "#      Minimum = 9\n",
        "\n",
        "\n",
        "\n",
        "\n",
        "\n",
        "\n",
        "\n"
      ],
      "execution_count": null,
      "outputs": []
    },
    {
      "cell_type": "code",
      "metadata": {
        "id": "FbrKJfEeme95"
      },
      "source": [
        "# This is the solution of the task above\n",
        "\n",
        "x = int(input(\"Please enter an integer: \"))\n",
        "y = int(input(\"Please enter a second integer: \"))\n",
        "\n",
        "if x > y:\n",
        "    print('Maximum = {:d}'.format(x))\n",
        "    print('Minimum = {:d}'.format(y))\n",
        "else:\n",
        "    print('Maximum = {:d}'.format(y))\n",
        "    print('Minimum = {:d}'.format(x))\n",
        "print('-----Compare with elif-----')\n",
        "if x > y:\n",
        "    print('Maximum = {:d}'.format(x))\n",
        "    print('Minimum = {:d}'.format(y))\n",
        "elif x < y:\n",
        "    print('Maximum = {:d}'.format(y))\n",
        "    print('Minimum = {:d}'.format(x))\n",
        "else:\n",
        "    print('Both numbers are equal to {:d}'.format(x))\n",
        "    \n",
        "# Tasks to do\n",
        "# Exeucte the statements above with three different pair of inputs\n",
        "# (a) 9 and 11, (b) 11 and 9, and (c) 11 and 11\n",
        "# What are the effects of elif and the condition fo elif?"
      ],
      "execution_count": null,
      "outputs": []
    },
    {
      "cell_type": "markdown",
      "metadata": {
        "id": "z4r_fUeEme99"
      },
      "source": [
        "# 3.4 While\n",
        "Statements bounded to 'while' are executed when the while condition is True"
      ]
    },
    {
      "cell_type": "code",
      "metadata": {
        "id": "OK3l59zEme99"
      },
      "source": [
        "x = 0\n",
        "while x < 4:\n",
        "    print(x, x * x)\n",
        "    x = x + 1\n",
        "    print('x =', x)\n",
        "    \n",
        "# Tasks to do\n",
        "# (1) Execute the statemetns above\n",
        "#     understand the execution of the while loop as the following:\n",
        "#       iteration 1: while condition 'x < 4' is True since x = 0, \n",
        "#                    so the 'print(x, x * x)' and 'x = x+1' statements are executed: x becomes 1\n",
        "#       iteration 2 while condition 'x < 4' is True since x = 1 \n",
        "#                    so the 'print(x, x * x)' and 'x = x+1' statements are executed: x becomes 2\n",
        "#       iteration 3 while condition 'x < 4' is True since x = 2 \n",
        "#                    so the 'print(x, x * x)' and 'x = x+1' statements are executed: x becomes 3\n",
        "#       iteration 4 while condition 'x < 4' is True since x = 3 \n",
        "#                    so the 'print(x, x * x)' and 'x = x+1' statements are executed: x becomes 4\n",
        "#       iteration 5 while condition 'x < 4' is False since x = 4 \n",
        "#                    so the 'print(x, x * x)' and 'x = x+1' statements are NOT executed and the while loop is terminated.\n",
        "# (2) Comment out the line 'x = x + 1', then execute the statements above again. What happens? Why?\n",
        "#     Click 'Kernel' and then 'Interrupt' in the top menu bar to stop the execution of this bad program"
      ],
      "execution_count": null,
      "outputs": []
    },
    {
      "cell_type": "markdown",
      "metadata": {
        "id": "3fIV6Su1me-A"
      },
      "source": [
        "Run the program below. What does the program do?"
      ]
    },
    {
      "cell_type": "code",
      "metadata": {
        "id": "V1Kjo490me-B"
      },
      "source": [
        "correct_password = 'secret'\n",
        "password = input(\"Enter a password:\")\n",
        "while password != correct_password:\n",
        "    password = input(\"Enter a password:\")\n"
      ],
      "execution_count": null,
      "outputs": []
    },
    {
      "cell_type": "markdown",
      "metadata": {
        "id": "I7fv1clRme-F"
      },
      "source": [
        "# 3.5 Break\n",
        "The statement 'break' in a while/for loop terminates the loop when it is executed."
      ]
    },
    {
      "cell_type": "code",
      "metadata": {
        "id": "1RoqyBKEme-G"
      },
      "source": [
        "x = list(range(5)) *  2\n",
        "print('x =', x)\n",
        "y = 4\n",
        "i = 0\n",
        "print('len(x) =', len(x))\n",
        "while i < len(x):\n",
        "    print('x[{:d}] = {:d}'.format(i, x[i]))\n",
        "    if x[i] == y:\n",
        "        print('x[{:d}] is equal to {:d}'.format(i,y))\n",
        "        break   # terminates the while loop when this statement is executed\n",
        "    i = i + 1\n",
        "    \n",
        "# Tasks to do\n",
        "# (1) Execute the statements above\n",
        "# (2) Comment out the statement 'break', then execute the statements above again.\n",
        "#     What happens? Why?"
      ],
      "execution_count": null,
      "outputs": []
    },
    {
      "cell_type": "markdown",
      "metadata": {
        "id": "5Q7JSpl8me-M"
      },
      "source": [
        "# 3.6 Exercise"
      ]
    },
    {
      "cell_type": "code",
      "metadata": {
        "id": "qpS8L0utme-O"
      },
      "source": [
        "correct_password = 'secret'\n",
        "max_num_trials = 3\n",
        "# Tasks to do\n",
        "# Write a while loop to ask a user to enter a password \n",
        "# until the password from the user is equal to \n",
        "# correct_password or the user has tried \n",
        "# max_num_trials passwords. \n",
        "\n",
        "\n",
        "\n",
        "\n",
        "\n",
        "\n",
        "\n",
        "\n",
        "\n"
      ],
      "execution_count": null,
      "outputs": []
    },
    {
      "cell_type": "code",
      "metadata": {
        "id": "kumTmKjmme-T"
      },
      "source": [
        "# This is a solution to the task above\n",
        "correct_password = 'secret'\n",
        "max_num_trials = 3\n",
        "num_trials = 0\n",
        "while num_trials < max_num_trials:\n",
        "    password = input(\"Enter your password: \")\n",
        "    if password == correct_password:\n",
        "        break\n",
        "    num_trials = num_trials + 1"
      ],
      "execution_count": null,
      "outputs": []
    },
    {
      "cell_type": "markdown",
      "metadata": {
        "id": "IYdxQvbsme-b"
      },
      "source": [
        "# 3.7 For\n",
        "The statements bounded to the 'for' loop are exeucted for each element of a sequence (e.ge., a list) in order"
      ]
    },
    {
      "cell_type": "code",
      "metadata": {
        "id": "cRExrT2ume-c"
      },
      "source": [
        "print('list(range(5)) is {}'.format(list(range(5))))\n",
        "x = list(range(5)) * 2\n",
        "print('list x is {}'.format(x))\n",
        "y = 3\n",
        "for z in x:\n",
        "    print(z)\n",
        "for i in range(len(x)):\n",
        "    if x[i] == y:\n",
        "        print(\"x[{:d}] is equal to {:d}\".format(i, y))\n",
        "        break   # terminates the for loop when this statement is executed\n",
        "print('-----advanced topic: enumerate() is useful when both index and value are needed-----')\n",
        "for i, n in enumerate(x):\n",
        "    if n == y:\n",
        "        print(\"x[{:d}] is equal to {:d}\".format(i, y))\n",
        "        break   # terminates the for loop when this statement is executed\n",
        "#Tasks to do\n",
        "# Execute the statements above"
      ],
      "execution_count": null,
      "outputs": []
    },
    {
      "cell_type": "markdown",
      "metadata": {
        "id": "W6UtMPgCme-e"
      },
      "source": [
        "# 4 Functions\n",
        "\n",
        "Functions help programs to organize statements better. A function can be called whenever needed.\n",
        "\n",
        "# 4 .1 Built-in Functions\n",
        "Python provides a number of built-in functions: https://docs.python.org/3/library/functions.html"
      ]
    },
    {
      "cell_type": "code",
      "metadata": {
        "id": "GF1SrF1Qme-g"
      },
      "source": [
        "print('sorted([1, -2, 3, -4]) is', sorted([1, -2, 3, -4]))\n",
        "print('abs(-5.5) =', abs(-5.5))\n",
        "print('int(-5.5) =', int(-5.5))\n",
        "print('sum([1, -2, 3, -4]) = ', sum([1, -2, 3, -4]))\n",
        "# Tasks to do\n",
        "# Execute the statements above to see what those built-in functions do"
      ],
      "execution_count": null,
      "outputs": []
    },
    {
      "cell_type": "markdown",
      "metadata": {
        "id": "wvGhgqsBme-p"
      },
      "source": [
        "# 4.2 User Defined Functions\n",
        "A user/programmer may define a fuction other than just using built-in functions."
      ]
    },
    {
      "cell_type": "code",
      "metadata": {
        "id": "lEG1yq8gme-r"
      },
      "source": [
        "def factorial(n):    # 'def function_name(one or more parameters)' defines a user defined function function_name.\n",
        "                     # In this example the function_name is factorial.\n",
        "    product = 1\n",
        "    for i in range(1, n+1):\n",
        "        product = product * i\n",
        "        print('i = ', i, ', product = ',product)\n",
        "    return product   # a function may return a value, list, etc.\n",
        "\n",
        "print(\"5! =\", factorial(5))  # function_name(one or more parameters) calls the user defined function function_name\n",
        "print(\"10! =\", factorial(10))"
      ],
      "execution_count": null,
      "outputs": []
    },
    {
      "cell_type": "markdown",
      "metadata": {
        "id": "HhlGoCCrme-z"
      },
      "source": [
        "# 4.3 Exercise"
      ]
    },
    {
      "cell_type": "code",
      "metadata": {
        "id": "4y0w1CCtme-1"
      },
      "source": [
        "# Tasks to do\n",
        "# Write a function search(a, x)\n",
        "# which searches the intger x in the list a, \n",
        "# returns the first index x[i] = a if such an x[i] exists\n",
        "#         or -1 if x is not in list a.\n",
        "##### Your function goes here #####\n",
        "\n",
        "\n",
        "###################################\n",
        "\n",
        "\n",
        "a = [1, 9, 5, 8]\n",
        "x = int(input('Enter an integer:'))\n",
        "r = search(a, x)\n",
        "if r < 0:\n",
        "    print(x, 'is not in list', a)\n",
        "else:\n",
        "    print('The index of', x, 'is', r, 'in list', a)"
      ],
      "execution_count": null,
      "outputs": []
    },
    {
      "cell_type": "code",
      "metadata": {
        "id": "iSdvMfTCme-7"
      },
      "source": [
        "# This is the solution of the task above\n",
        "def search(a, x):\n",
        "    return_value = None\n",
        "    for i in range(len(a)):\n",
        "        print('i = ', i)\n",
        "        if a[i] == x:\n",
        "            return i\n",
        "    return return_value\n",
        "\n",
        "a = [1, 9, 5, 8, 5]\n",
        "x = int(input('Enter an integer:'))\n",
        "r = search(a, x)\n",
        "if r is None:\n",
        "    print(x, 'is not in list', a)\n",
        "else:\n",
        "    print('The index of', x, 'is', r, 'in list', a)"
      ],
      "execution_count": null,
      "outputs": []
    },
    {
      "cell_type": "markdown",
      "metadata": {
        "id": "SCyD0VoOme_B"
      },
      "source": [
        "# 5 Scripts and Modules\n",
        "\n",
        "A python program can be saved in a script and/or regarded as a module. Scirpts and modules make it is easy to re-use python programs.\n",
        "\n",
        "\n",
        "# 5.1 Import a Module\n",
        "A module is a python script, and can be imported to a python pogram so that the python program can access functions/data in that module."
      ]
    },
    {
      "cell_type": "code",
      "metadata": {
        "id": "e19E7sSmme_C"
      },
      "source": [
        "import random  # import the random module so that this program can access functions/data in the random module\n",
        "\n",
        "for i in range(10):\n",
        "    print(\"random number\", random.randint(1,5))  # generate a random number between 1 and 5 (1 and 5 are included)\n",
        "# Tasks to do\n",
        "# (1) Execute the statements above. What happens? Why?\n",
        "# (2) Uncomment out the first line, then execute the statements again. What happens? Why?"
      ],
      "execution_count": null,
      "outputs": []
    },
    {
      "cell_type": "code",
      "metadata": {
        "id": "sEjdS3vZme_L"
      },
      "source": [
        "# Tasks to do\n",
        "# Write a program to generate a random number number_to_guess between 1 and 10\n",
        "# then asks a user to guess and integer between 1 and 10 until the number guessed\n",
        "# by the user equal to number_to_guess correctly.\n",
        "# An example of running the program:\n",
        "#    Guess an integer from 1 to 10: 5\n",
        "#    Your guess is too low\n",
        "#    Guess an integer from 1 to 10: 8\n",
        "#    Your guess is too high\n",
        "#    Guess an integer from 1 to 10: 7\n",
        "#    Your guess is too high\n",
        "#    Guess an integer from 1 to 10: 6\n",
        "#    You guessed it.\n",
        "\n",
        "\n"
      ],
      "execution_count": null,
      "outputs": []
    },
    {
      "cell_type": "code",
      "metadata": {
        "id": "86UiNj8Lme_S"
      },
      "source": [
        "# This is the solution to the task above\n",
        "\n",
        "import random\n",
        "\n",
        "#function to display a message to users\n",
        "def display_message(status):\n",
        "    if status == 'right':\n",
        "        print(\"You guessed it.\")\n",
        "    else:\n",
        "        print(\"Your guess is too {:s}\".format(status))\n",
        "        \n",
        "# generate a random number from 1 to 10\n",
        "number_to_guess = random.randint(1, 10)\n",
        "\n",
        "# keep on guessing until the number is guessed\n",
        "while True:\n",
        "    guess = int(input(\"Guess an integer from 1 to 100: \"))\n",
        "    if guess < number_to_guess:\n",
        "        display_message(\"low\")\n",
        "    elif guess > number_to_guess:\n",
        "        display_message(\"high\")\n",
        "    else:\n",
        "        display_message(\"right\")\n",
        "        break"
      ],
      "execution_count": null,
      "outputs": []
    },
    {
      "cell_type": "code",
      "metadata": {
        "id": "8RjCpCRCme_g"
      },
      "source": [
        "print(help(\"modules\"))"
      ],
      "execution_count": null,
      "outputs": []
    },
    {
      "cell_type": "markdown",
      "metadata": {
        "id": "s7H8ySWhme_s"
      },
      "source": [
        "\n",
        "# 5.2 Scripts\n",
        "A python script is a file in which there are python statements.\n",
        "\n",
        "Comments: demonstrate in a shell how to run a python script for the number guessing game."
      ]
    },
    {
      "cell_type": "markdown",
      "metadata": {
        "id": "9CUb2dbcme_u"
      },
      "source": [
        "# 6 File Input and Ouput\n",
        "A python program and read from a file and/or write to a file. Do not forget to close the files your program opens. Too many open files will deplete your computer resource"
      ]
    },
    {
      "cell_type": "code",
      "metadata": {
        "id": "-ZobQKHIme_v",
        "outputId": "431c1452-2495-44f1-f8ca-8049de80fbf7",
        "colab": {
          "base_uri": "https://localhost:8080/",
          "height": 34
        }
      },
      "source": [
        "input_file = open('integers.txt', 'r')     # open file 'integers.txxt' to read ('r') only\n",
        "output_file = open('integer_sum.txt', 'w') # open file 'integer_sum.txt' to write ('w') only\n",
        "total = 0\n",
        "for line in input_file:                    # read a line from input_file\n",
        "    total = total + int(line)              # add the integer from line to the total sum\n",
        "print(\"the sum of the integers from the input file is {:d}\".format(total))\n",
        "output_file.write(str(total) + \"\\n\")       # write the total sum to the output file\n",
        "output_file.close()                        # close the output file\n",
        "input_file.close()                         # close the input file\n",
        "# Tasks to do\n",
        "# (1) Execute the program above. What happens? Why?\n",
        "# (2) Create a file 'integers.txt', and put some integers in that file. You should put one integer per line.\n",
        "#     Execute the program again. What happens now?"
      ],
      "execution_count": 3,
      "outputs": [
        {
          "output_type": "stream",
          "text": [
            "the sum of the integers from the input file is 621\n"
          ],
          "name": "stdout"
        }
      ]
    },
    {
      "cell_type": "markdown",
      "metadata": {
        "id": "MK42Cgy9me_z"
      },
      "source": [
        "A file opened in a 'with' statement is automatically closed when the 'with' statement is finished."
      ]
    },
    {
      "cell_type": "code",
      "metadata": {
        "id": "TCbqPT6nme_0"
      },
      "source": [
        "total = 0\n",
        "with open('integer_sum.txt', 'w') as output_file:   \n",
        "    with open('integers.txt', 'r') as input_file:\n",
        "        for line in input_file:\n",
        "            total = total + int(line)\n",
        "    output_file.write(str(total) + '\\n')"
      ],
      "execution_count": null,
      "outputs": []
    },
    {
      "cell_type": "markdown",
      "metadata": {
        "id": "StwHiq3Nme_3"
      },
      "source": [
        "# 7 Errors and Exceptions\n",
        "\n",
        "We have seen errors which are either syntax errors (e.g., invalid variable names) or exceptions (caused during program execution). The following program shows an exception for non-existing file."
      ]
    },
    {
      "cell_type": "code",
      "metadata": {
        "id": "LdythNRpme_4"
      },
      "source": [
        "with open('non_existing.txt') as input_file:\n",
        "    for line in input_file:\n",
        "        print(line)\n",
        "print(\"file is processeed\")"
      ],
      "execution_count": null,
      "outputs": []
    },
    {
      "cell_type": "markdown",
      "metadata": {
        "id": "RcUyPCgRme_7"
      },
      "source": [
        "The program above terminates and throws the program trace of the exception when the exception occurred. Python programs can use 'try ... except' to handle exceptions more gracefully."
      ]
    },
    {
      "cell_type": "code",
      "metadata": {
        "id": "YxZMxe0Xme_8"
      },
      "source": [
        "try:\n",
        "    with open('non_existing.txt') as input_file:\n",
        "        for line in input_file:\n",
        "            print(line)\n",
        "except OSError as err:\n",
        "    print(\"OS error: {}:\".format(err))\n",
        "print(\"file is processeed\")"
      ],
      "execution_count": null,
      "outputs": []
    },
    {
      "cell_type": "markdown",
      "metadata": {
        "id": "3dvxO4YUmfAB"
      },
      "source": [
        "The program with 'try ... except' above completes the statements under 'except' to handle the error first, and then continues the execution of the remaining program. Built-in exceptions are listed here: https://docs.python.org/3/library/exceptions.html"
      ]
    },
    {
      "cell_type": "markdown",
      "metadata": {
        "id": "lXSx-pEqmfAC"
      },
      "source": [
        "# 8 Dictionaries\n",
        "\n",
        "A dictionary is a mapping object which maps hashable values (keys) to arbitrary objects (values): key <---- value. Keys must be immutable.\n",
        "\n",
        "- Lists are mutable and thus cannot be keys\n",
        "- Integers (or strings, etc.) are immutable and can be keys.\n",
        "\n",
        "# 8.1 Creation of Dictionaries\n",
        "\n",
        "A dictionary can be created by several methods as illustrated in the examples below."
      ]
    },
    {
      "cell_type": "code",
      "metadata": {
        "id": "ggyCTQ3bmfAC"
      },
      "source": [
        "d = {'Tom': 35, 'May': 28}\n",
        "print(\"A dictionary created by key:value pairs: {}\".format(d))\n",
        "d = dict([('Tom', 35), ('May', 28)])\n",
        "print(\"A dictionary created by dict constuctor with a list of (key, value) pairs: {}\".format(d))\n",
        "d = dict(Tom = 35, May = 28)\n",
        "print(\"A dictionary created by dict constructor with key=value paris: {}\".format(d))\n",
        "d = {x: (x + x ** 2) /2 for x in (1, 2, 3, 6, 8)}\n",
        "print(\"A dictionary created from list comprehesion: {}\".format(d))"
      ],
      "execution_count": null,
      "outputs": []
    },
    {
      "cell_type": "markdown",
      "metadata": {
        "id": "vjFDJgIDmfAE"
      },
      "source": [
        "# 8.2 Dictionary Functions\n",
        "\n",
        "Here we only list a few functions for list:\n",
        "- d[k]: returns the value for key k if k is in d, and otherwise an error will occur.\n",
        "- k in d: returns True if key k is in d, otherwise False.\n",
        "- d.get(k, default): returns d[k] if key k exists in d, otherwise default.\n",
        "- del d[k]: deletes the element for key k in d.\n",
        "- d.items(): returns a new view (list) of (key, value) pairs in d.\n",
        "- iter(d): returns an iterator over the keys of d."
      ]
    },
    {
      "cell_type": "code",
      "metadata": {
        "id": "rwklENR8mfAG"
      },
      "source": [
        "d = {'Tom': 35, 'May': 28}\n",
        "x = 10 + d['Bill']\n",
        "print(\"x = {}\".format(x))"
      ],
      "execution_count": null,
      "outputs": []
    },
    {
      "cell_type": "markdown",
      "metadata": {
        "id": "rewvFaLBmfAJ"
      },
      "source": [
        "To avoid such error, a program needs check the key k in the dictionary or not before accessing d[k], as shown in the following program."
      ]
    },
    {
      "cell_type": "code",
      "metadata": {
        "id": "gmrPyI51mfAJ"
      },
      "source": [
        "d = {'Tom': 35, 'May': 28}\n",
        "if 'Bill' in d:\n",
        "    x = 10 + d['Bill']\n",
        "    print(\"x = {}\".format(x))\n",
        "else:\n",
        "    print(\"Error: key 'Bill' is not in dictionary.\")"
      ],
      "execution_count": null,
      "outputs": []
    },
    {
      "cell_type": "markdown",
      "metadata": {
        "id": "Xu9Kd4OBmfAR"
      },
      "source": [
        "A program may handle the exception using 'try ... except' (preferred as EAFP in python: https://docs.python.org/3/glossary.html#term-eafp)"
      ]
    },
    {
      "cell_type": "code",
      "metadata": {
        "id": "8nK0HwOWmfAS"
      },
      "source": [
        "d = {'Tom': 35, 'May': 28}\n",
        "try:\n",
        "    x = 10 + d['Bill']\n",
        "    print(\"x = {}\".format(x))\n",
        "except KeyError as err:\n",
        "    print(\"Error: key {} is not in dictionary.\".format(err))"
      ],
      "execution_count": null,
      "outputs": []
    },
    {
      "cell_type": "markdown",
      "metadata": {
        "id": "Tsf7iWK1mfAX"
      },
      "source": [
        "# 8.3 Count Word Frequency\n",
        "\n",
        "We will develop a program to count the frequencies of words in a file here. Let's take a look at the file first. "
      ]
    },
    {
      "cell_type": "code",
      "metadata": {
        "id": "xgNuwxcmmfAX"
      },
      "source": [
        "frequency_table = {}\n",
        "with open('declaration_of_independence.txt', 'r') as f:\n",
        "    for line in f:\n",
        "        print(line)"
      ],
      "execution_count": null,
      "outputs": []
    },
    {
      "cell_type": "markdown",
      "metadata": {
        "id": "xhxJHnsUmfAZ"
      },
      "source": [
        "There is an extra blank line between two lines in the program output. That is because the variable line include the newline character. function rstrip() can be used to get rid of the newline character in the variable line."
      ]
    },
    {
      "cell_type": "code",
      "metadata": {
        "id": "xQXhZDLimfAa"
      },
      "source": [
        "frequency_table = {}\n",
        "with open('declaration_of_independence.txt', 'r') as f:\n",
        "    for line in f:\n",
        "        line = line.rstrip()  # remove the trailing newline character\n",
        "        print(line)"
      ],
      "execution_count": null,
      "outputs": []
    },
    {
      "cell_type": "markdown",
      "metadata": {
        "id": "Gl8BIFNcmfAh"
      },
      "source": [
        "Since we need count word frequencies, we need get individual words. The split() function can be used to split a string (the line variable) into a list of words."
      ]
    },
    {
      "cell_type": "code",
      "metadata": {
        "id": "OBKbBr1zmfAh"
      },
      "source": [
        "frequency_table = {}\n",
        "with open('declaration_of_independence.txt', 'r') as f:\n",
        "    for line in f:\n",
        "        line = line.rstrip()  # remove the trailing newline character\n",
        "        words = line.split()  # get a list of words from the string (line)\n",
        "        print(line)\n",
        "        print(words)"
      ],
      "execution_count": null,
      "outputs": []
    },
    {
      "cell_type": "markdown",
      "metadata": {
        "id": "MpQLN0KtmfAj"
      },
      "source": [
        "Now the words are available. We can count their frequencies and save them into the dictionary frequency_table."
      ]
    },
    {
      "cell_type": "code",
      "metadata": {
        "id": "vcDDDjlimfAj"
      },
      "source": [
        "frequency_table = {}\n",
        "with open('declaration_of_independence.txt', 'r') as f:\n",
        "    for line in f:\n",
        "        line = line.rstrip()  # remove the trailing newline character\n",
        "        words = line.split()  # get a list of words from the string (line)\n",
        "        for word in words:\n",
        "            if word in frequency_table:\n",
        "                frequency_table[word] += 1\n",
        "            else:\n",
        "                frequency_table[word] = 1\n",
        "\n",
        "# print the frequency_table dictionary\n",
        "for k in iter(frequency_table):\n",
        "    print('{:<20s} : {}'.format(k, frequency_table[k]))"
      ],
      "execution_count": null,
      "outputs": []
    },
    {
      "cell_type": "markdown",
      "metadata": {
        "id": "AUdBIDrAmfAl"
      },
      "source": [
        "You might have noticed that\n",
        " - some words include punctuations like ','.\n",
        " - the output is not sorted by word frequencies nor by words.\n",
        " \n",
        " We will sort the output in next section. Remove trailing punctuations is left for your exercise.\n",
        " \n",
        " # 8.4 Exericse: Group Words by Their Lengths\n",
        " \n",
        " Write a program to group words in the 'declaration_of_independence.txt' by their lengths. Your program should output an integer x followed by the words of length x. For example\n",
        " \n",
        " 5 human which bands earth\n",
        " \n",
        " 6 Nature decent assume"
      ]
    },
    {
      "cell_type": "code",
      "metadata": {
        "id": "AAyB37ermfAl"
      },
      "source": [
        "# Complete the exericse (8.4) here\n",
        "\n",
        "\n",
        "\n",
        "\n"
      ],
      "execution_count": null,
      "outputs": []
    },
    {
      "cell_type": "code",
      "metadata": {
        "id": "tIVIFutxmfAo"
      },
      "source": [
        "# This is a solution to the exericse 8.4\n",
        "word_table = {}\n",
        "with open('declaration_of_independence.txt', 'r') as f:\n",
        "    for line in f:\n",
        "        line = line.rstrip()  # remove the trailing newline character\n",
        "        words = line.split()  # get a list of words from the string (line)\n",
        "        for word in words:\n",
        "            l = len(word)\n",
        "            if l in word_table:\n",
        "                word_table[l].append(word)\n",
        "            else:\n",
        "                word_table[l] = [word]\n",
        "\n",
        "# print the frequency_table dictionary\n",
        "for k in iter(word_table):\n",
        "    print('{:<5d} : {}'.format(k, word_table[k]))\n"
      ],
      "execution_count": null,
      "outputs": []
    },
    {
      "cell_type": "markdown",
      "metadata": {
        "id": "b2xaOOywmfAx"
      },
      "source": [
        "# 9 Sorting\n",
        "\n",
        "Function sorted() returns a new sorted list from an iterable.\n",
        "\n",
        "# 9.1 Sorted Function\n",
        "\n",
        "A simple ascending (default) sort is very easy for an iterable (e.g. list, dictionary)."
      ]
    },
    {
      "cell_type": "code",
      "metadata": {
        "id": "9nlnEMvjmfAx"
      },
      "source": [
        "l = [1, -1, 3, -3, 5, -5]\n",
        "sorted_l = sorted(l)\n",
        "print('after sorted(), l = {}, sorted_l = {}'.format(l, sorted_l))\n",
        "d = {'Tom':30, 'May':40}\n",
        "sorted_d = sorted(d)\n",
        "print('after sorted(), d = {}, sorted_d = {}'.format(d, sorted_d))\n",
        "sorted_d = sorted(d.items())\n",
        "print('after sorted(), d = {}, sorted_d = {}'.format(d, sorted_d))"
      ],
      "execution_count": null,
      "outputs": []
    },
    {
      "cell_type": "markdown",
      "metadata": {
        "id": "dqQ3La9jmfA1"
      },
      "source": [
        "# 9.2 Sorted Function with Key Parameter\n",
        "\n",
        "The sorted() function may have a key parameter to specify a function to be called on each element from the iterable and that function's output is used for comparison and sorting. The next exampl sorts dictionary items by the length of keys by passing the len() function as the key paramter to the sorted() function."
      ]
    },
    {
      "cell_type": "code",
      "metadata": {
        "id": "1eYn7Dk3mfA1"
      },
      "source": [
        "d = {'Tom':30, 'May':40, 'Michael':35, 'Peter': 20, 'Alex':25, 'Alice': 15}\n",
        "sorted_d = sorted(d.items(), key = len) # sort the dictionary by the length of keys\n",
        "print('after sorted()')\n",
        "print('d = {}'.format(d))\n",
        "print('sorted_d = {}'.format(sorted_d))"
      ],
      "execution_count": null,
      "outputs": []
    },
    {
      "cell_type": "markdown",
      "metadata": {
        "id": "zTrjjJRmmfA5"
      },
      "source": [
        "To sort a dicitionary items by the value, a lambda function can be passed to the sorted() function as the key parameter."
      ]
    },
    {
      "cell_type": "code",
      "metadata": {
        "id": "6t-lahvYmfA-"
      },
      "source": [
        "d = {'Tom':30, 'May':40, 'Michael':35, 'Peter': 20, 'Alex':25, 'Alice': 15}\n",
        "sorted_d = sorted(d.items(), key = lambda x:x[1]) # x[1] refers to the value element of a dictionary item\n",
        "print('after sorted()')\n",
        "print('d = {}'.format(d))\n",
        "print('sorted_d = {}'.format(sorted_d))"
      ],
      "execution_count": null,
      "outputs": []
    },
    {
      "cell_type": "markdown",
      "metadata": {
        "id": "5gCbeAe5mfA_"
      },
      "source": [
        "# 9.3 Sorting Dictionary Items by Their Values"
      ]
    },
    {
      "cell_type": "code",
      "metadata": {
        "id": "B_VtO3ucmfBA"
      },
      "source": [
        "frequency_table = {}\n",
        "with open('declaration_of_independence.txt', 'r') as f:\n",
        "    for line in f:\n",
        "        line = line.rstrip()  # remove the trailing newline character\n",
        "        words = line.split()  # get a list of words from the string (line)\n",
        "        for word in words:\n",
        "            if word in frequency_table:\n",
        "                frequency_table[word] += 1\n",
        "            else:\n",
        "                frequency_table[word] = 1\n",
        "\n",
        "# print the frequency_table dictionary\n",
        "sorted_table = sorted(frequency_table.items(), key = lambda x: x[1])\n",
        "for k, v in sorted_table:\n",
        "    print('{:<20s} : {}'.format(k, v))"
      ],
      "execution_count": null,
      "outputs": []
    },
    {
      "cell_type": "markdown",
      "metadata": {
        "id": "b7s7WcLQmfBB"
      },
      "source": [
        "# 9.4 Exercise: Group Words by Length and Display Word Groups in Order by Their Word Length\n",
        "\n",
        "Modify your solution to exercise 8.4 to display those word groups by their word length. That is, a group of words whose length is shorter is displayed before any group of words whose length is longer."
      ]
    },
    {
      "cell_type": "code",
      "metadata": {
        "id": "9BlYqjbnmfBC"
      },
      "source": [
        "# Your program for exericse 9.4 starts here\n",
        "\n",
        "\n",
        "\n",
        "\n",
        "\n",
        "\n"
      ],
      "execution_count": null,
      "outputs": []
    },
    {
      "cell_type": "code",
      "metadata": {
        "id": "kOS7Lu1MmfBF"
      },
      "source": [
        "# This is a solution to the exericse 9.4\n",
        "word_table = {}\n",
        "with open('declaration_of_independence.txt', 'r') as f:\n",
        "    for line in f:\n",
        "        line = line.rstrip()  # remove the trailing newline character\n",
        "        words = line.split()  # get a list of words from the string (line)\n",
        "        for word in words:\n",
        "            l = len(word)\n",
        "            if l in word_table:\n",
        "                word_table[l].append(word)\n",
        "            else:\n",
        "                word_table[l] = [word]\n",
        "\n",
        "# print the frequency_table dictionary\n",
        "sorted_word_table = sorted(word_table.items(), key = lambda x: x[0])\n",
        "for k, v in sorted_word_table:\n",
        "    print('{:<5d} : {}'.format(k, v))"
      ],
      "execution_count": null,
      "outputs": []
    },
    {
      "cell_type": "markdown",
      "metadata": {
        "id": "0_zY409ZmfBG"
      },
      "source": [
        "# 10 Regular Expressions\n",
        "\n",
        "A regular expression is a pattern to search in a string. Python provides the 're' module to handle Perl-style regular expressions.\n",
        "\n",
        "# 10.1 Simple search() and findall()\n",
        "\n",
        "The search() function returns the first match of a regular expression, while the findall() return a list of all matches of a regular expression."
      ]
    },
    {
      "cell_type": "code",
      "metadata": {
        "id": "siYZ6N7NmfBH"
      },
      "source": [
        "import re\n",
        "\n",
        "s = 'undergraduate tuition: $10,000, graduate tutition: $15,000'\n",
        "matched_object = re.search(\"graduate\", s)\n",
        "matched_object_list = re.findall(\"graduate\", s)\n",
        "print('matched_object.group() = {}'.format(matched_object.group()))\n",
        "print('matched_object_list = {}'.format(matched_object_list))"
      ],
      "execution_count": null,
      "outputs": []
    },
    {
      "cell_type": "markdown",
      "metadata": {
        "id": "dBAH2tXemfBK"
      },
      "source": [
        "Sometimes we need to locate the locations/positions of the substrings which matches the pattern. Function finditer() returns match object 'm' which provide location/position information via m.start() and m.end()."
      ]
    },
    {
      "cell_type": "code",
      "metadata": {
        "id": "dwA3VqVbmfBK"
      },
      "source": [
        "s = 'undergraduate tuition: $10,000, graduate tutition: $15,000'\n",
        "matched_object_iter = re.finditer(\"graduate\", s)\n",
        "for match in matched_object_iter:\n",
        "    print('match.start() = {}, match.end() = {}, matched pattern = {}'.format(match.start(), match.end(), match.group(0)))"
      ],
      "execution_count": null,
      "outputs": []
    },
    {
      "cell_type": "markdown",
      "metadata": {
        "id": "3hNJ9MwHmfBL"
      },
      "source": [
        "# 10.2 Match a  Word Boundary\n",
        "\n",
        "The metacharacters '\\b' matches a word boudary. Since Python interprets '\\' as a special character (escape) in a string, it is easier to use a raw string in regular expression \"r'\\bxyz'\" which represents a regular expression that a word starts with xyz. "
      ]
    },
    {
      "cell_type": "code",
      "metadata": {
        "id": "-g9lPjUlmfBP"
      },
      "source": [
        "s = 'undergraduate tuition: $10,000, graduate tutition: $15,000, Can you find Graduate'\n",
        "matched_object_iter = re.finditer(r\"\\bgraduate\", s)\n",
        "for match in matched_object_iter:\n",
        "    print('match.start() = {}, match.end() = {}, matched pattern = {}'.format(match.start(), match.end(), match.group(0)))"
      ],
      "execution_count": null,
      "outputs": []
    },
    {
      "cell_type": "markdown",
      "metadata": {
        "id": "19_QEGiUmfBR"
      },
      "source": [
        "The regular expression '\\bgraduate' does not match the word 'Graduate' since it is case sensitive. The metacharacters '[]' can be used to refer to a pattern which matches any letter inside the square bracket '[]'."
      ]
    },
    {
      "cell_type": "code",
      "metadata": {
        "id": "34bRihx-mfBR"
      },
      "source": [
        "s = 'undergraduate tuition: $10,000, graduate tutition: $15,000, Can you find Graduate'\n",
        "matched_object_iter = re.finditer(r\"\\b[gG]raduate\", s)\n",
        "for match in matched_object_iter:\n",
        "    print('match.start() = {}, match.end() = {}, matched pattern = {}'.format(match.start(), match.end(), match.group(0)))"
      ],
      "execution_count": null,
      "outputs": []
    },
    {
      "cell_type": "markdown",
      "metadata": {
        "id": "stJJgAJImfBT"
      },
      "source": [
        "# 11 Slicing, List Comprehension, List Assignment and Copy\n",
        "\n",
        "# 11.1 Slicing\n",
        "Let variable x be a sequence (string, list, etc).\n",
        "A slicing x[start:end:step] (step is assumed be positive, while start and end are assumed to be non-negative in this course) is\n",
        "<ul>\n",
        "    <li> a sequence of elements x[start], x[start + step], x[start + 2 \\* step], ..., x[start + m \\* step] where\n",
        "    <ul>\n",
        "        <li> start + m \\* step < end, and\n",
        "        <li> start + (m + 1) \\* step >= end\n",
        "    </ul>\n",
        "</ul>"
      ]
    },
    {
      "cell_type": "code",
      "metadata": {
        "id": "6Zp7HwjzmfBT"
      },
      "source": [
        "x = list(range(10))   # create a list of integers from 0 to 9\n",
        "print(x)\n",
        "print(x[0:10:2])      # a slicing of x: every other element\n",
        "print(x[3:5])         # a slicing of x: x[end = 5] (integer 5) is excuded, and step is 1 by default\n",
        "# Tasks to do\n",
        "# (1) Execute the statements above\n",
        "# What are the indexes of the elements selected by x[0:10:2]\n",
        "# (2) Try to find out what is x[0:9:2]?\n",
        "\n"
      ],
      "execution_count": null,
      "outputs": []
    },
    {
      "cell_type": "markdown",
      "metadata": {
        "id": "pHkYJWtjmfBY"
      },
      "source": [
        "# 11.2 List Comprehension\n",
        "List comprehension is a simple way to create a new list from an old list by\n",
        "<ul>\n",
        "    <li> selecting elements from old list with/without conditions\n",
        "    <li> and applying operations on those selected elements\n",
        "</ul>"
      ]
    },
    {
      "cell_type": "code",
      "metadata": {
        "id": "P9cur4zamfBY"
      },
      "source": [
        "print([x + 100 for x in range(10)])             # select elements without condition from the list of integer 0 to 9\n",
        "print(\"list comprehension with condition (selectin only even number by x%2 ==0)\")\n",
        "print([x + 2 for x in range(10) if x % 2 == 0]) # select elements with condition (select even  number only)\n",
        "# Tasks to do\n",
        "# Execute the statements above\n",
        "# Explain what is the old list, the new list, the operations, \n",
        "# and if any, the conditions applied during the element selection"
      ],
      "execution_count": null,
      "outputs": []
    },
    {
      "cell_type": "code",
      "metadata": {
        "scrolled": true,
        "id": "92DRheucmfBc"
      },
      "source": [
        "x = list(range(10))\n",
        "print(x)\n",
        "print('x * 2 is')\n",
        "print(x * 2)\n",
        "print('2 * x is')\n",
        "print(2 * x)\n",
        "# Tasks to do\n",
        "# (1) Execute the statements above. What do 'x * 2' and '2 * x' actually do\n",
        "# (2) Use list comprehension to get a list y from x where each element is 2 times its corresponding elements of x,\n",
        "#     i.e., y = [0, 2, 4, 6, 8, 12, 14, 16, 18]\n",
        "# (3) What do you expect from 'x + 2'? Try it.\n",
        "# IMPORTANT: pay attention to data types when operations are performed on variables\n",
        "\n",
        "\n",
        "\n"
      ],
      "execution_count": null,
      "outputs": []
    },
    {
      "cell_type": "markdown",
      "metadata": {
        "id": "5Tv1a0IxmfBh"
      },
      "source": [
        "# 11.3 List Assignment, Element Modification and Comparison\n",
        "Recall that assignment 'a = b' sets the reference of a to be the same of variable b, i.e., both a and b refer to the same object. Be careful for 'a = b' when both a and b are lists.\n",
        "<ul>\n",
        "     <li> if an element of a is changed, both a and b are changed.\n",
        "</ul>"
      ]
    },
    {
      "cell_type": "code",
      "metadata": {
        "scrolled": false,
        "id": "ZJyfKoI0mfBh"
      },
      "source": [
        "a = list(range(5))\n",
        "b = a\n",
        "print(a)\n",
        "print(b)\n",
        "b[2] = 10\n",
        "print(\"after b[2] is changed 10\")\n",
        "print('a == b is still', a == b)\n",
        "print(a)\n",
        "print(b)\n",
        "# Tasks to do\n",
        "# Execute the statements above\n",
        "# Eplain why 'b == a' is still true after b[2] is changed to 10"
      ],
      "execution_count": null,
      "outputs": []
    },
    {
      "cell_type": "markdown",
      "metadata": {
        "collapsed": true,
        "id": "okVWnQj0mfBm"
      },
      "source": [
        "<img src = \"image/comparison-list-assignment.png\"  height=60>\n",
        "The picture above explains why 'b == a' is still true after b[2] is changed to 10. After 'b = a', both a and b refer/point to the same list [0, 1, 2, 3, 4]. The assignment 'b[2] = 10' does not change the list referred by b. Instead, it only change the integer referred by b[2]. You may print id(b[2]) and id(a[2]) before and after the statement 'b[2] = 10' to see that.\n"
      ]
    },
    {
      "cell_type": "markdown",
      "metadata": {
        "id": "xnnhv2pWmfBm"
      },
      "source": [
        "# 11.4 Copy a List\n",
        "There are several ways to copy a list c\n",
        "<ul>\n",
        "    <li> b = c.copy()\n",
        "    <li> b = c[:]\n",
        "    <li> b = list(c)\n",
        "</ul>"
      ]
    },
    {
      "cell_type": "code",
      "metadata": {
        "id": "XIwMV1QomfBm"
      },
      "source": [
        "a = list(range(5))\n",
        "b = a\n",
        "print('a is', a)\n",
        "print('b is', b)\n",
        "print('a == b is', a == b)\n",
        "print('id(a[2]) =', id(a[2]))\n",
        "print('id(b[2]) =', id(b[2]))\n",
        "b[2] = 10\n",
        "print(\"Now b[2] is changed to 10\")\n",
        "print('a is', a)\n",
        "print('b is', b)\n",
        "print('a == b is', a == b)\n",
        "\n",
        "print('id(a[2]) =', id(a[2]))\n",
        "print('id(b[2]) =', id(b[2]))\n",
        "print(\"----------------------compare 'b = a' with 'b = a.copy()'\")\n",
        "a = list(range(5))\n",
        "b = a.copy()\n",
        "print('a is', a)\n",
        "print('b is', b)\n",
        "print('a == b is', a == b)\n",
        "print('id(a[2]) =', id(a[2]))\n",
        "print('id(b[2]) =', id(b[2]))\n",
        "b[2] = 10\n",
        "print(\"Now b[2] is changed to 10\")\n",
        "print('a is', a)\n",
        "print('b is', b)\n",
        "print('a == b is', a == b)\n",
        "print('id(a[2]) =', id(a[2]))\n",
        "print('id(b[2]) =', id(b[2]))"
      ],
      "execution_count": null,
      "outputs": []
    },
    {
      "cell_type": "markdown",
      "metadata": {
        "id": "J37PPgCHmfBo"
      },
      "source": [
        "<img src = \"image/comparison-list-copy.png\" height=60>\n",
        "You may compare the picture above and the picture in the previous section \"List Assignment, Element Modification and Comparsion\" to figure out the different between 'b = a' and 'b = a.copy()'.\n",
        "For 'b = a.copy()', b is a copy of a. That is, b and a does not point to the same list. Instead, b refers to a new list (copy of a). Since the list referred by b is a copy of a, list b has the the element references as those element references in list a. Therefore, a and b have the same value, i.e., 'a == b' is still true. The statement 'b[2] = 10' only changes the reference b[2] without altering a[2] since b[2] is only a copy of a[2]. So b is changed and a is not changed by 'b[2] = 10'."
      ]
    },
    {
      "cell_type": "markdown",
      "metadata": {
        "id": "Cszgi_CbmfBo"
      },
      "source": [
        "# 11.5 Copy: Shallow vs Deep\n",
        "If we go further, we will find that a.copy() for a list a is a shallow copy. We will not cover it in this course. In general, \n",
        "<ul>\n",
        "    <li> be careful when you copy a list of compound objects, e.g., a list of lists.\n",
        "    <li> need to study more on shallow/deep copy to understand the behavious of copying a list of compound objects.\n",
        "</ul>"
      ]
    }
  ]
}